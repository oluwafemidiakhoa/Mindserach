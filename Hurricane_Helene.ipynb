{
  "nbformat": 4,
  "nbformat_minor": 0,
  "metadata": {
    "colab": {
      "provenance": [],
      "authorship_tag": "ABX9TyMeuas6hQdiS2i948/xB6oh",
      "include_colab_link": true
    },
    "kernelspec": {
      "name": "python3",
      "display_name": "Python 3"
    },
    "language_info": {
      "name": "python"
    }
  },
  "cells": [
    {
      "cell_type": "markdown",
      "metadata": {
        "id": "view-in-github",
        "colab_type": "text"
      },
      "source": [
        "<a href=\"https://colab.research.google.com/github/oluwafemidiakhoa/Mindserach/blob/master/Hurricane_Helene.ipynb\" target=\"_parent\"><img src=\"https://colab.research.google.com/assets/colab-badge.svg\" alt=\"Open In Colab\"/></a>"
      ]
    },
    {
      "cell_type": "markdown",
      "source": [
        "## LIbrary"
      ],
      "metadata": {
        "id": "HkRM71AywC08"
      }
    },
    {
      "cell_type": "code",
      "source": [
        "!pip install rasterio"
      ],
      "metadata": {
        "colab": {
          "base_uri": "https://localhost:8080/"
        },
        "id": "sgjn3f7XsiAe",
        "outputId": "470600d8-dcf6-4ba6-b772-d6c7bb01e2d0"
      },
      "execution_count": 19,
      "outputs": [
        {
          "output_type": "stream",
          "name": "stdout",
          "text": [
            "Collecting rasterio\n",
            "  Downloading rasterio-1.4.1-cp310-cp310-manylinux_2_17_x86_64.manylinux2014_x86_64.whl.metadata (9.1 kB)\n",
            "Collecting affine (from rasterio)\n",
            "  Downloading affine-2.4.0-py3-none-any.whl.metadata (4.0 kB)\n",
            "Requirement already satisfied: attrs in /usr/local/lib/python3.10/dist-packages (from rasterio) (24.2.0)\n",
            "Requirement already satisfied: certifi in /usr/local/lib/python3.10/dist-packages (from rasterio) (2024.8.30)\n",
            "Requirement already satisfied: click>=4.0 in /usr/local/lib/python3.10/dist-packages (from rasterio) (8.1.7)\n",
            "Collecting cligj>=0.5 (from rasterio)\n",
            "  Downloading cligj-0.7.2-py3-none-any.whl.metadata (5.0 kB)\n",
            "Requirement already satisfied: numpy>=1.24 in /usr/local/lib/python3.10/dist-packages (from rasterio) (1.26.4)\n",
            "Collecting click-plugins (from rasterio)\n",
            "  Downloading click_plugins-1.1.1-py2.py3-none-any.whl.metadata (6.4 kB)\n",
            "Requirement already satisfied: pyparsing in /usr/local/lib/python3.10/dist-packages (from rasterio) (3.1.4)\n",
            "Downloading rasterio-1.4.1-cp310-cp310-manylinux_2_17_x86_64.manylinux2014_x86_64.whl (22.2 MB)\n",
            "\u001b[2K   \u001b[90m━━━━━━━━━━━━━━━━━━━━━━━━━━━━━━━━━━━━━━━━\u001b[0m \u001b[32m22.2/22.2 MB\u001b[0m \u001b[31m39.9 MB/s\u001b[0m eta \u001b[36m0:00:00\u001b[0m\n",
            "\u001b[?25hDownloading cligj-0.7.2-py3-none-any.whl (7.1 kB)\n",
            "Downloading affine-2.4.0-py3-none-any.whl (15 kB)\n",
            "Downloading click_plugins-1.1.1-py2.py3-none-any.whl (7.5 kB)\n",
            "Installing collected packages: cligj, click-plugins, affine, rasterio\n",
            "Successfully installed affine-2.4.0 click-plugins-1.1.1 cligj-0.7.2 rasterio-1.4.1\n"
          ]
        }
      ]
    },
    {
      "cell_type": "markdown",
      "source": [
        "## Zip Files for Helene Zip"
      ],
      "metadata": {
        "id": "JrIgYFApwGxP"
      }
    },
    {
      "cell_type": "code",
      "execution_count": 23,
      "metadata": {
        "colab": {
          "base_uri": "https://localhost:8080/"
        },
        "id": "lrtNr7NcoNcJ",
        "outputId": "fad03ed6-315e-4b5d-9673-d695b03e2be0"
      },
      "outputs": [
        {
          "output_type": "execute_result",
          "data": {
            "text/plain": [
              "['Helene']"
            ]
          },
          "metadata": {},
          "execution_count": 23
        }
      ],
      "source": [
        "import zipfile\n",
        "import os\n",
        "\n",
        "# Define the path where the file is stored\n",
        "zip_file_path = '/content/Helene.zip'\n",
        "extracted_folder_path = '/content/Helene_data/'\n",
        "\n",
        "# Unzipping the file\n",
        "with zipfile.ZipFile(zip_file_path, 'r') as zip_ref:\n",
        "    zip_ref.extractall(extracted_folder_path)\n",
        "\n",
        "# Listing the extracted files to see what we are working with\n",
        "extracted_files = os.listdir(extracted_folder_path)\n",
        "extracted_files\n"
      ]
    },
    {
      "cell_type": "code",
      "source": [
        "# Check inside the 'Helene' directory to list its contents\n",
        "helene_folder_path = os.path.join(extracted_folder_path, 'Helene')\n",
        "helene_files = os.listdir(helene_folder_path)\n",
        "helene_files\n"
      ],
      "metadata": {
        "colab": {
          "base_uri": "https://localhost:8080/"
        },
        "id": "bbrIAcmSsaLY",
        "outputId": "f0c7abe1-060a-4e4f-a897-cf8f4b5b1fa4"
      },
      "execution_count": 21,
      "outputs": [
        {
          "output_type": "execute_result",
          "data": {
            "text/plain": [
              "['VNP46A2.A2024264.DNB_BRDF-Corrected_NTLC2.Mosaic_C2.tif',\n",
              " 'VNP46A2.A2024264.QF_Cloud_MaskC2_Cloud_C2.Mosaic_C2.tif',\n",
              " 'VNP46A2.A2024265.DNB_BRDF-Corrected_NTLC2.Mosaic_C2.tif',\n",
              " 'VNP46A2.A2024263.QF_Cloud_MaskC2_Cloud_C2.Mosaic_C2.tif',\n",
              " 'VNP46A2.A2024266.QF_Cloud_MaskC2_Cloud_C2.Mosaic_C2.tif',\n",
              " 'VNP46A2.A2024273.QF_Cloud_MaskC2_Cloud_C2.Mosaic_C2.tif',\n",
              " 'VNP46A2.A2024274.DNB_BRDF-Corrected_NTLC2.Mosaic_C2.tif',\n",
              " 'VNP46A2.A2024274.QF_Cloud_MaskC2_Cloud_C2.Mosaic_C2.tif',\n",
              " 'VNP46A2.A2024275.QF_Cloud_Mask.Mosaic_SNPP_C2.tif',\n",
              " 'VNP46A3.A2024.00.August2024.Mosaic_C2.tif',\n",
              " 'VNP46A2.A2024262.QF_Cloud_MaskC2_Cloud_C2.Mosaic_C2.tif',\n",
              " 'VNP46A2.A2024262.DNB_BRDF-Corrected_NTLC2.Mosaic_C2.tif',\n",
              " 'VNP46A2.A2024263.DNB_BRDF-Corrected_NTLC2.Mosaic_C2.tif',\n",
              " 'VNP46A2.A2024266.DNB_BRDF-Corrected_NTLC2.Mosaic_C2.tif']"
            ]
          },
          "metadata": {},
          "execution_count": 21
        }
      ]
    },
    {
      "cell_type": "markdown",
      "source": [
        "\n",
        "## 2. Data Collection\n",
        "A. Weather Data from Weather.gov API\n",
        "The Weather.gov API provides real-time data, including temperature, wind speed, and barometric pressure, which are vital for hurricane predictions. We used the API to collect historical weather data from station KATL, relevant to Hurricane Helene's path.\n",
        "\n",
        "Here’s how we gathered the data:"
      ],
      "metadata": {
        "id": "aoL3MnUCwT2G"
      }
    },
    {
      "cell_type": "code",
      "source": [
        "import requests\n",
        "import pandas as pd\n",
        "from sklearn.preprocessing import MinMaxScaler\n",
        "\n",
        "# Fetch real-time weather data for Hurricane Helene\n",
        "api_url = \"https://api.weather.gov/stations/KATL/observations\"\n",
        "response = requests.get(api_url)\n",
        "\n",
        "if response.status_code == 200:\n",
        "    data = response.json()\n",
        "    df = pd.json_normalize(data['features'])\n",
        "    # Extract relevant columns\n",
        "    df = df[['properties.timestamp', 'properties.temperature.value', 'properties.windSpeed.value', 'properties.barometricPressure.value']]\n",
        "    df.dropna(inplace=True)\n",
        "    df['properties.timestamp'] = pd.to_datetime(df['properties.timestamp'])\n",
        "    df.set_index('properties.timestamp', inplace=True)\n",
        "else:\n",
        "    print(f\"Error fetching data: {response.status_code}\")\n",
        "\n",
        "# Normalize the data for LSTM input\n",
        "scaler = MinMaxScaler()\n",
        "scaled_data = scaler.fit_transform(df)\n",
        "\n"
      ],
      "metadata": {
        "id": "sMFZbqdAsfUi"
      },
      "execution_count": 67,
      "outputs": []
    },
    {
      "cell_type": "markdown",
      "source": [
        "## B. Historical Data from hurdat2.txt:\n",
        "We will extract historical hurricane data from the hurdat2.txt file, focusing on storm intensity, wind speed, and coordinates."
      ],
      "metadata": {
        "id": "4gnH1f-QwaX0"
      }
    },
    {
      "cell_type": "code",
      "source": [
        "hurdat_path = '/content/hurdat2.txt'\n",
        "\n",
        "# Extract the hurdat2.txt data\n",
        "with open(hurdat_path, 'r') as f:\n",
        "    hurdat_data = f.readlines()\n",
        "\n",
        "hurdat_parsed_data = []\n",
        "\n",
        "# Loop through the hurdat data, process hurricane lines ('HU') only\n",
        "for line in hurdat_data:\n",
        "    # Check if the line contains the hurricane ('HU') indicator\n",
        "    if 'HU' in line:\n",
        "        data = line.strip().split(',')\n",
        "\n",
        "        # Ensure that there are enough data points in the line to avoid index errors\n",
        "        if len(data) > 6:\n",
        "            try:\n",
        "                wind_speed = int(data[6])\n",
        "                lat = float(data[4][:-1])  # Removing 'N' or 'S'\n",
        "                lon = float(data[5][:-1])  # Removing 'W' or 'E'\n",
        "\n",
        "                # Append the parsed data to the list\n",
        "                hurdat_parsed_data.append((lat, lon, wind_speed))\n",
        "            except (ValueError, IndexError):\n",
        "                # Handle any issues with conversion or missing data\n",
        "                continue\n",
        "\n",
        "# Convert the parsed data into a DataFrame for analysis\n",
        "hurdat_df = pd.DataFrame(hurdat_parsed_data, columns=['Latitude', 'Longitude', 'Wind Speed'])\n",
        "\n",
        "# Display the first few rows of the DataFrame\n",
        "hurdat_df.head()\n"
      ],
      "metadata": {
        "colab": {
          "base_uri": "https://localhost:8080/",
          "height": 206
        },
        "id": "n1UIclEMsz-o",
        "outputId": "194e95e3-a38c-4356-840d-436bd23dc10a"
      },
      "execution_count": 68,
      "outputs": [
        {
          "output_type": "execute_result",
          "data": {
            "text/plain": [
              "   Latitude  Longitude  Wind Speed\n",
              "0      28.0       94.8          80\n",
              "1      28.0       95.4          80\n",
              "2      28.0       96.0          80\n",
              "3      28.1       96.5          80\n",
              "4      28.2       96.8          80"
            ],
            "text/html": [
              "\n",
              "  <div id=\"df-aa3458d3-cc7f-4be2-8e9c-44e2ec972741\" class=\"colab-df-container\">\n",
              "    <div>\n",
              "<style scoped>\n",
              "    .dataframe tbody tr th:only-of-type {\n",
              "        vertical-align: middle;\n",
              "    }\n",
              "\n",
              "    .dataframe tbody tr th {\n",
              "        vertical-align: top;\n",
              "    }\n",
              "\n",
              "    .dataframe thead th {\n",
              "        text-align: right;\n",
              "    }\n",
              "</style>\n",
              "<table border=\"1\" class=\"dataframe\">\n",
              "  <thead>\n",
              "    <tr style=\"text-align: right;\">\n",
              "      <th></th>\n",
              "      <th>Latitude</th>\n",
              "      <th>Longitude</th>\n",
              "      <th>Wind Speed</th>\n",
              "    </tr>\n",
              "  </thead>\n",
              "  <tbody>\n",
              "    <tr>\n",
              "      <th>0</th>\n",
              "      <td>28.0</td>\n",
              "      <td>94.8</td>\n",
              "      <td>80</td>\n",
              "    </tr>\n",
              "    <tr>\n",
              "      <th>1</th>\n",
              "      <td>28.0</td>\n",
              "      <td>95.4</td>\n",
              "      <td>80</td>\n",
              "    </tr>\n",
              "    <tr>\n",
              "      <th>2</th>\n",
              "      <td>28.0</td>\n",
              "      <td>96.0</td>\n",
              "      <td>80</td>\n",
              "    </tr>\n",
              "    <tr>\n",
              "      <th>3</th>\n",
              "      <td>28.1</td>\n",
              "      <td>96.5</td>\n",
              "      <td>80</td>\n",
              "    </tr>\n",
              "    <tr>\n",
              "      <th>4</th>\n",
              "      <td>28.2</td>\n",
              "      <td>96.8</td>\n",
              "      <td>80</td>\n",
              "    </tr>\n",
              "  </tbody>\n",
              "</table>\n",
              "</div>\n",
              "    <div class=\"colab-df-buttons\">\n",
              "\n",
              "  <div class=\"colab-df-container\">\n",
              "    <button class=\"colab-df-convert\" onclick=\"convertToInteractive('df-aa3458d3-cc7f-4be2-8e9c-44e2ec972741')\"\n",
              "            title=\"Convert this dataframe to an interactive table.\"\n",
              "            style=\"display:none;\">\n",
              "\n",
              "  <svg xmlns=\"http://www.w3.org/2000/svg\" height=\"24px\" viewBox=\"0 -960 960 960\">\n",
              "    <path d=\"M120-120v-720h720v720H120Zm60-500h600v-160H180v160Zm220 220h160v-160H400v160Zm0 220h160v-160H400v160ZM180-400h160v-160H180v160Zm440 0h160v-160H620v160ZM180-180h160v-160H180v160Zm440 0h160v-160H620v160Z\"/>\n",
              "  </svg>\n",
              "    </button>\n",
              "\n",
              "  <style>\n",
              "    .colab-df-container {\n",
              "      display:flex;\n",
              "      gap: 12px;\n",
              "    }\n",
              "\n",
              "    .colab-df-convert {\n",
              "      background-color: #E8F0FE;\n",
              "      border: none;\n",
              "      border-radius: 50%;\n",
              "      cursor: pointer;\n",
              "      display: none;\n",
              "      fill: #1967D2;\n",
              "      height: 32px;\n",
              "      padding: 0 0 0 0;\n",
              "      width: 32px;\n",
              "    }\n",
              "\n",
              "    .colab-df-convert:hover {\n",
              "      background-color: #E2EBFA;\n",
              "      box-shadow: 0px 1px 2px rgba(60, 64, 67, 0.3), 0px 1px 3px 1px rgba(60, 64, 67, 0.15);\n",
              "      fill: #174EA6;\n",
              "    }\n",
              "\n",
              "    .colab-df-buttons div {\n",
              "      margin-bottom: 4px;\n",
              "    }\n",
              "\n",
              "    [theme=dark] .colab-df-convert {\n",
              "      background-color: #3B4455;\n",
              "      fill: #D2E3FC;\n",
              "    }\n",
              "\n",
              "    [theme=dark] .colab-df-convert:hover {\n",
              "      background-color: #434B5C;\n",
              "      box-shadow: 0px 1px 3px 1px rgba(0, 0, 0, 0.15);\n",
              "      filter: drop-shadow(0px 1px 2px rgba(0, 0, 0, 0.3));\n",
              "      fill: #FFFFFF;\n",
              "    }\n",
              "  </style>\n",
              "\n",
              "    <script>\n",
              "      const buttonEl =\n",
              "        document.querySelector('#df-aa3458d3-cc7f-4be2-8e9c-44e2ec972741 button.colab-df-convert');\n",
              "      buttonEl.style.display =\n",
              "        google.colab.kernel.accessAllowed ? 'block' : 'none';\n",
              "\n",
              "      async function convertToInteractive(key) {\n",
              "        const element = document.querySelector('#df-aa3458d3-cc7f-4be2-8e9c-44e2ec972741');\n",
              "        const dataTable =\n",
              "          await google.colab.kernel.invokeFunction('convertToInteractive',\n",
              "                                                    [key], {});\n",
              "        if (!dataTable) return;\n",
              "\n",
              "        const docLinkHtml = 'Like what you see? Visit the ' +\n",
              "          '<a target=\"_blank\" href=https://colab.research.google.com/notebooks/data_table.ipynb>data table notebook</a>'\n",
              "          + ' to learn more about interactive tables.';\n",
              "        element.innerHTML = '';\n",
              "        dataTable['output_type'] = 'display_data';\n",
              "        await google.colab.output.renderOutput(dataTable, element);\n",
              "        const docLink = document.createElement('div');\n",
              "        docLink.innerHTML = docLinkHtml;\n",
              "        element.appendChild(docLink);\n",
              "      }\n",
              "    </script>\n",
              "  </div>\n",
              "\n",
              "\n",
              "<div id=\"df-51fc06ff-301c-4259-aef9-ba9736058284\">\n",
              "  <button class=\"colab-df-quickchart\" onclick=\"quickchart('df-51fc06ff-301c-4259-aef9-ba9736058284')\"\n",
              "            title=\"Suggest charts\"\n",
              "            style=\"display:none;\">\n",
              "\n",
              "<svg xmlns=\"http://www.w3.org/2000/svg\" height=\"24px\"viewBox=\"0 0 24 24\"\n",
              "     width=\"24px\">\n",
              "    <g>\n",
              "        <path d=\"M19 3H5c-1.1 0-2 .9-2 2v14c0 1.1.9 2 2 2h14c1.1 0 2-.9 2-2V5c0-1.1-.9-2-2-2zM9 17H7v-7h2v7zm4 0h-2V7h2v10zm4 0h-2v-4h2v4z\"/>\n",
              "    </g>\n",
              "</svg>\n",
              "  </button>\n",
              "\n",
              "<style>\n",
              "  .colab-df-quickchart {\n",
              "      --bg-color: #E8F0FE;\n",
              "      --fill-color: #1967D2;\n",
              "      --hover-bg-color: #E2EBFA;\n",
              "      --hover-fill-color: #174EA6;\n",
              "      --disabled-fill-color: #AAA;\n",
              "      --disabled-bg-color: #DDD;\n",
              "  }\n",
              "\n",
              "  [theme=dark] .colab-df-quickchart {\n",
              "      --bg-color: #3B4455;\n",
              "      --fill-color: #D2E3FC;\n",
              "      --hover-bg-color: #434B5C;\n",
              "      --hover-fill-color: #FFFFFF;\n",
              "      --disabled-bg-color: #3B4455;\n",
              "      --disabled-fill-color: #666;\n",
              "  }\n",
              "\n",
              "  .colab-df-quickchart {\n",
              "    background-color: var(--bg-color);\n",
              "    border: none;\n",
              "    border-radius: 50%;\n",
              "    cursor: pointer;\n",
              "    display: none;\n",
              "    fill: var(--fill-color);\n",
              "    height: 32px;\n",
              "    padding: 0;\n",
              "    width: 32px;\n",
              "  }\n",
              "\n",
              "  .colab-df-quickchart:hover {\n",
              "    background-color: var(--hover-bg-color);\n",
              "    box-shadow: 0 1px 2px rgba(60, 64, 67, 0.3), 0 1px 3px 1px rgba(60, 64, 67, 0.15);\n",
              "    fill: var(--button-hover-fill-color);\n",
              "  }\n",
              "\n",
              "  .colab-df-quickchart-complete:disabled,\n",
              "  .colab-df-quickchart-complete:disabled:hover {\n",
              "    background-color: var(--disabled-bg-color);\n",
              "    fill: var(--disabled-fill-color);\n",
              "    box-shadow: none;\n",
              "  }\n",
              "\n",
              "  .colab-df-spinner {\n",
              "    border: 2px solid var(--fill-color);\n",
              "    border-color: transparent;\n",
              "    border-bottom-color: var(--fill-color);\n",
              "    animation:\n",
              "      spin 1s steps(1) infinite;\n",
              "  }\n",
              "\n",
              "  @keyframes spin {\n",
              "    0% {\n",
              "      border-color: transparent;\n",
              "      border-bottom-color: var(--fill-color);\n",
              "      border-left-color: var(--fill-color);\n",
              "    }\n",
              "    20% {\n",
              "      border-color: transparent;\n",
              "      border-left-color: var(--fill-color);\n",
              "      border-top-color: var(--fill-color);\n",
              "    }\n",
              "    30% {\n",
              "      border-color: transparent;\n",
              "      border-left-color: var(--fill-color);\n",
              "      border-top-color: var(--fill-color);\n",
              "      border-right-color: var(--fill-color);\n",
              "    }\n",
              "    40% {\n",
              "      border-color: transparent;\n",
              "      border-right-color: var(--fill-color);\n",
              "      border-top-color: var(--fill-color);\n",
              "    }\n",
              "    60% {\n",
              "      border-color: transparent;\n",
              "      border-right-color: var(--fill-color);\n",
              "    }\n",
              "    80% {\n",
              "      border-color: transparent;\n",
              "      border-right-color: var(--fill-color);\n",
              "      border-bottom-color: var(--fill-color);\n",
              "    }\n",
              "    90% {\n",
              "      border-color: transparent;\n",
              "      border-bottom-color: var(--fill-color);\n",
              "    }\n",
              "  }\n",
              "</style>\n",
              "\n",
              "  <script>\n",
              "    async function quickchart(key) {\n",
              "      const quickchartButtonEl =\n",
              "        document.querySelector('#' + key + ' button');\n",
              "      quickchartButtonEl.disabled = true;  // To prevent multiple clicks.\n",
              "      quickchartButtonEl.classList.add('colab-df-spinner');\n",
              "      try {\n",
              "        const charts = await google.colab.kernel.invokeFunction(\n",
              "            'suggestCharts', [key], {});\n",
              "      } catch (error) {\n",
              "        console.error('Error during call to suggestCharts:', error);\n",
              "      }\n",
              "      quickchartButtonEl.classList.remove('colab-df-spinner');\n",
              "      quickchartButtonEl.classList.add('colab-df-quickchart-complete');\n",
              "    }\n",
              "    (() => {\n",
              "      let quickchartButtonEl =\n",
              "        document.querySelector('#df-51fc06ff-301c-4259-aef9-ba9736058284 button');\n",
              "      quickchartButtonEl.style.display =\n",
              "        google.colab.kernel.accessAllowed ? 'block' : 'none';\n",
              "    })();\n",
              "  </script>\n",
              "</div>\n",
              "\n",
              "    </div>\n",
              "  </div>\n"
            ],
            "application/vnd.google.colaboratory.intrinsic+json": {
              "type": "dataframe",
              "variable_name": "hurdat_df",
              "summary": "{\n  \"name\": \"hurdat_df\",\n  \"rows\": 15517,\n  \"fields\": [\n    {\n      \"column\": \"Latitude\",\n      \"properties\": {\n        \"dtype\": \"number\",\n        \"std\": 7.9236225493418075,\n        \"min\": 9.5,\n        \"max\": 60.0,\n        \"num_unique_values\": 417,\n        \"samples\": [\n          28.4,\n          47.1,\n          48.7\n        ],\n        \"semantic_type\": \"\",\n        \"description\": \"\"\n      }\n    },\n    {\n      \"column\": \"Longitude\",\n      \"properties\": {\n        \"dtype\": \"number\",\n        \"std\": 15.596342278267322,\n        \"min\": 13.0,\n        \"max\": 119.3,\n        \"num_unique_values\": 774,\n        \"samples\": [\n          50.8,\n          53.2,\n          67.2\n        ],\n        \"semantic_type\": \"\",\n        \"description\": \"\"\n      }\n    },\n    {\n      \"column\": \"Wind Speed\",\n      \"properties\": {\n        \"dtype\": \"number\",\n        \"std\": 17,\n        \"min\": 60,\n        \"max\": 165,\n        \"num_unique_values\": 22,\n        \"samples\": [\n          80,\n          125,\n          75\n        ],\n        \"semantic_type\": \"\",\n        \"description\": \"\"\n      }\n    }\n  ]\n}"
            }
          },
          "metadata": {},
          "execution_count": 68
        }
      ]
    },
    {
      "cell_type": "markdown",
      "source": [
        "## C. Geospatial Storm Track Data\n",
        "We use shapefiles from NOAA, which contain geospatial information on storm tracks, such as storm path coordinates. These will be processed using the geopandas library and used in CNNs for spatial analysis."
      ],
      "metadata": {
        "id": "aZ9CInD8wrBZ"
      }
    },
    {
      "cell_type": "code",
      "source": [
        "import geopandas as gpd\n",
        "\n",
        "# Load shapefile (example for storm track points)\n",
        "shapefile_path = '/content/al012024_5day_001.zip'\n",
        "storm_tracks = gpd.read_file(shapefile_path)\n",
        "\n",
        "# Check the data\n",
        "print(storm_tracks.head())\n"
      ],
      "metadata": {
        "colab": {
          "base_uri": "https://localhost:8080/"
        },
        "id": "q-n6EL2Is2NL",
        "outputId": "7101fc2b-3332-488d-9f30-b94301e6ce16"
      },
      "execution_count": 54,
      "outputs": [
        {
          "output_type": "stream",
          "name": "stdout",
          "text": [
            "  STORMNAME STORMTYPE                     ADVDATE ADVISNUM  STORMNUM  FCSTPRD  \\\n",
            "0       One        PC  400 PM CDT Mon Jun 17 2024        1       1.0    120.0   \n",
            "\n",
            "  BASIN                                           geometry  \n",
            "0    AL  LINESTRING (-93.2 20.3, -93.4 21.1, -93.8 22.2...  \n"
          ]
        },
        {
          "output_type": "stream",
          "name": "stderr",
          "text": [
            "/usr/local/lib/python3.10/dist-packages/pyogrio/geopandas.py:261: UserWarning: More than one layer found in 'al012024_5day_001.zip': 'al012024-001_5day_lin' (default), 'al012024-001_5day_pgn', 'al012024-001_5day_pts', 'al012024-001_ww_wwlin'. Specify layer parameter to avoid this warning.\n",
            "  result = read_func(\n"
          ]
        }
      ]
    },
    {
      "cell_type": "markdown",
      "source": [
        "## 3. Data Preprocessing\n",
        "A. Time-Series Data for LSTM\n",
        "The time-series data (wind speed, temperature, and pressure) is normalized and structured into sequences suitable for LSTM modeling. We prepare the input data by converting it into overlapping sequences."
      ],
      "metadata": {
        "id": "QVz6dwDdwury"
      }
    },
    {
      "cell_type": "code",
      "source": [
        "# Function to create time-series dataset\n",
        "def create_dataset(data, time_step=1):\n",
        "    X, y = [], []\n",
        "    for i in range(len(data) - time_step - 1):\n",
        "        X.append(data[i:(i + time_step), :])\n",
        "        y.append(data[i + time_step, 1])  # Predicting wind speed\n",
        "    return np.array(X), np.array(y)\n",
        "\n",
        "time_step = 10\n",
        "X_train, y_train = create_dataset(scaled_data, time_step)\n"
      ],
      "metadata": {
        "id": "vLIptWL9s4kP"
      },
      "execution_count": 69,
      "outputs": []
    },
    {
      "cell_type": "markdown",
      "source": [
        "## B. Processing Geospatial Data for CNN\n",
        "For spatial analysis, we process the shapefiles and generate 2D maps of storm paths. These maps are fed into a Convolutional Neural Network (CNN) to capture spatial patterns of the storm."
      ],
      "metadata": {
        "id": "WGRFUC7cw1m6"
      }
    },
    {
      "cell_type": "code",
      "source": [
        "# Preprocess geospatial data (storm tracks)\n",
        "# Convert geospatial data into 2D matrices (grid representation) for CNN input\n",
        "# Example for rescaling and converting to grid representation (64x64 grid)\n",
        "\n",
        "storm_track_images = []  # Placeholder for storm track image data\n",
        "\n",
        "# Code to convert storm tracks into image-like grid data goes here\n",
        "# Assuming you convert the spatial storm track to a grid format suitable for CNN\n"
      ],
      "metadata": {
        "id": "P8NGqkMcvSjZ"
      },
      "execution_count": 70,
      "outputs": []
    },
    {
      "cell_type": "markdown",
      "source": [
        "## 4. Model Development\n",
        "A. LSTM with Attention Mechanism\n",
        "The LSTM model uses time-series data with an attention mechanism to focus on important time steps that are most relevant for predicting wind speed. The attention mechanism enhances the model’s interpretability and performance."
      ],
      "metadata": {
        "id": "MQxiJ9Jdw8kW"
      }
    },
    {
      "source": [
        "from keras.models import Sequential\n",
        "from keras.layers import LSTM, Dense, Multiply, Layer\n",
        "import tensorflow as tf\n",
        "\n",
        "# Custom Attention Layer\n",
        "class AttentionLayer(Layer):\n",
        "    def __init__(self):\n",
        "        super(AttentionLayer, self).__init__()\n",
        "        self.dense = Dense(1, activation='tanh')\n",
        "\n",
        "    def call(self, inputs):\n",
        "        attention_weights = self.dense(inputs)\n",
        "        attention_weights = tf.nn.softmax(attention_weights, axis=1)\n",
        "        weighted_inputs = Multiply()([inputs, attention_weights])\n",
        "        output_attention = tf.reduce_sum(weighted_inputs, axis=1)\n",
        "        return output_attention\n",
        "\n",
        "# LSTM Model with Attention\n",
        "lstm_model = Sequential()\n",
        "lstm_model.add(LSTM(50, return_sequences=True, input_shape=(X_train.shape[1], X_train.shape[2])))\n",
        "lstm_model.add(AttentionLayer())\n",
        "lstm_model.add(Dense(25, activation='relu'))\n",
        "lstm_model.add(Dense(1))  # Predict wind speed\n",
        "\n",
        "# Compile and train the model\n",
        "lstm_model.compile(optimizer='adam', loss='mean_squared_error')\n",
        "lstm_model.fit(X_train, y_train, epochs=20, batch_size=32)\n"
      ],
      "cell_type": "code",
      "metadata": {
        "colab": {
          "base_uri": "https://localhost:8080/"
        },
        "id": "ifPtMhyy32in",
        "outputId": "1a925d8a-63b4-422b-e229-30a11313d8ef"
      },
      "execution_count": 71,
      "outputs": [
        {
          "output_type": "stream",
          "name": "stderr",
          "text": [
            "/usr/local/lib/python3.10/dist-packages/keras/src/layers/rnn/rnn.py:204: UserWarning: Do not pass an `input_shape`/`input_dim` argument to a layer. When using Sequential models, prefer using an `Input(shape)` object as the first layer in the model instead.\n",
            "  super().__init__(**kwargs)\n"
          ]
        },
        {
          "output_type": "stream",
          "name": "stdout",
          "text": [
            "Epoch 1/20\n",
            "\u001b[1m6/6\u001b[0m \u001b[32m━━━━━━━━━━━━━━━━━━━━\u001b[0m\u001b[37m\u001b[0m \u001b[1m2s\u001b[0m 7ms/step - loss: 0.1722\n",
            "Epoch 2/20\n",
            "\u001b[1m6/6\u001b[0m \u001b[32m━━━━━━━━━━━━━━━━━━━━\u001b[0m\u001b[37m\u001b[0m \u001b[1m0s\u001b[0m 7ms/step - loss: 0.0901  \n",
            "Epoch 3/20\n",
            "\u001b[1m6/6\u001b[0m \u001b[32m━━━━━━━━━━━━━━━━━━━━\u001b[0m\u001b[37m\u001b[0m \u001b[1m0s\u001b[0m 7ms/step - loss: 0.0504 \n",
            "Epoch 4/20\n",
            "\u001b[1m6/6\u001b[0m \u001b[32m━━━━━━━━━━━━━━━━━━━━\u001b[0m\u001b[37m\u001b[0m \u001b[1m0s\u001b[0m 7ms/step - loss: 0.0462 \n",
            "Epoch 5/20\n",
            "\u001b[1m6/6\u001b[0m \u001b[32m━━━━━━━━━━━━━━━━━━━━\u001b[0m\u001b[37m\u001b[0m \u001b[1m0s\u001b[0m 8ms/step - loss: 0.0373 \n",
            "Epoch 6/20\n",
            "\u001b[1m6/6\u001b[0m \u001b[32m━━━━━━━━━━━━━━━━━━━━\u001b[0m\u001b[37m\u001b[0m \u001b[1m0s\u001b[0m 7ms/step - loss: 0.0284 \n",
            "Epoch 7/20\n",
            "\u001b[1m6/6\u001b[0m \u001b[32m━━━━━━━━━━━━━━━━━━━━\u001b[0m\u001b[37m\u001b[0m \u001b[1m0s\u001b[0m 7ms/step - loss: 0.0292 \n",
            "Epoch 8/20\n",
            "\u001b[1m6/6\u001b[0m \u001b[32m━━━━━━━━━━━━━━━━━━━━\u001b[0m\u001b[37m\u001b[0m \u001b[1m0s\u001b[0m 7ms/step - loss: 0.0287 \n",
            "Epoch 9/20\n",
            "\u001b[1m6/6\u001b[0m \u001b[32m━━━━━━━━━━━━━━━━━━━━\u001b[0m\u001b[37m\u001b[0m \u001b[1m0s\u001b[0m 14ms/step - loss: 0.0288\n",
            "Epoch 10/20\n",
            "\u001b[1m6/6\u001b[0m \u001b[32m━━━━━━━━━━━━━━━━━━━━\u001b[0m\u001b[37m\u001b[0m \u001b[1m0s\u001b[0m 13ms/step - loss: 0.0284\n",
            "Epoch 11/20\n",
            "\u001b[1m6/6\u001b[0m \u001b[32m━━━━━━━━━━━━━━━━━━━━\u001b[0m\u001b[37m\u001b[0m \u001b[1m0s\u001b[0m 12ms/step - loss: 0.0255\n",
            "Epoch 12/20\n",
            "\u001b[1m6/6\u001b[0m \u001b[32m━━━━━━━━━━━━━━━━━━━━\u001b[0m\u001b[37m\u001b[0m \u001b[1m0s\u001b[0m 12ms/step - loss: 0.0236\n",
            "Epoch 13/20\n",
            "\u001b[1m6/6\u001b[0m \u001b[32m━━━━━━━━━━━━━━━━━━━━\u001b[0m\u001b[37m\u001b[0m \u001b[1m0s\u001b[0m 11ms/step - loss: 0.0261\n",
            "Epoch 14/20\n",
            "\u001b[1m6/6\u001b[0m \u001b[32m━━━━━━━━━━━━━━━━━━━━\u001b[0m\u001b[37m\u001b[0m \u001b[1m0s\u001b[0m 12ms/step - loss: 0.0242\n",
            "Epoch 15/20\n",
            "\u001b[1m6/6\u001b[0m \u001b[32m━━━━━━━━━━━━━━━━━━━━\u001b[0m\u001b[37m\u001b[0m \u001b[1m0s\u001b[0m 12ms/step - loss: 0.0264\n",
            "Epoch 16/20\n",
            "\u001b[1m6/6\u001b[0m \u001b[32m━━━━━━━━━━━━━━━━━━━━\u001b[0m\u001b[37m\u001b[0m \u001b[1m0s\u001b[0m 12ms/step - loss: 0.0237\n",
            "Epoch 17/20\n",
            "\u001b[1m6/6\u001b[0m \u001b[32m━━━━━━━━━━━━━━━━━━━━\u001b[0m\u001b[37m\u001b[0m \u001b[1m0s\u001b[0m 10ms/step - loss: 0.0255\n",
            "Epoch 18/20\n",
            "\u001b[1m6/6\u001b[0m \u001b[32m━━━━━━━━━━━━━━━━━━━━\u001b[0m\u001b[37m\u001b[0m \u001b[1m0s\u001b[0m 10ms/step - loss: 0.0225\n",
            "Epoch 19/20\n",
            "\u001b[1m6/6\u001b[0m \u001b[32m━━━━━━━━━━━━━━━━━━━━\u001b[0m\u001b[37m\u001b[0m \u001b[1m0s\u001b[0m 12ms/step - loss: 0.0235\n",
            "Epoch 20/20\n",
            "\u001b[1m6/6\u001b[0m \u001b[32m━━━━━━━━━━━━━━━━━━━━\u001b[0m\u001b[37m\u001b[0m \u001b[1m0s\u001b[0m 10ms/step - loss: 0.0252\n"
          ]
        },
        {
          "output_type": "execute_result",
          "data": {
            "text/plain": [
              "<keras.src.callbacks.history.History at 0x7e387f541960>"
            ]
          },
          "metadata": {},
          "execution_count": 71
        }
      ]
    },
    {
      "cell_type": "markdown",
      "source": [
        "## B. CNN for Spatial Data\n",
        "The CNN model processes the geospatial storm track data, identifying spatial patterns in hurricane paths. These patterns can help predict storm intensity and evolution."
      ],
      "metadata": {
        "id": "gwRvENm-xC31"
      }
    },
    {
      "cell_type": "code",
      "source": [
        "from keras.models import Sequential\n",
        "from keras.layers import Conv2D, MaxPooling2D, Flatten, Dense\n",
        "\n",
        "# Define CNN for spatial data\n",
        "cnn_model = Sequential()\n",
        "cnn_model.add(Conv2D(64, (3, 3), input_shape=(64, 64, 1), activation='relu'))\n",
        "cnn_model.add(MaxPooling2D(pool_size=(2, 2)))\n",
        "cnn_model.add(Conv2D(64, (3, 3), activation='relu'))\n",
        "cnn_model.add(MaxPooling2D(pool_size=(2, 2)))\n",
        "cnn_model.add(Flatten())\n",
        "cnn_model.add(Dense(128, activation='relu'))\n",
        "cnn_model.add(Dense(1, activation='sigmoid'))  # Predict hurricane occurrence likelihood\n",
        "\n",
        "# Compile and train the CNN\n",
        "cnn_model.compile(optimizer='adam', loss='binary_crossentropy', metrics=['accuracy'])\n",
        "\n"
      ],
      "metadata": {
        "colab": {
          "base_uri": "https://localhost:8080/"
        },
        "id": "00B34ODrxFN1",
        "outputId": "37fca5f0-8b52-430a-de8f-2592fcbb23ac"
      },
      "execution_count": 72,
      "outputs": [
        {
          "output_type": "stream",
          "name": "stderr",
          "text": [
            "/usr/local/lib/python3.10/dist-packages/keras/src/layers/convolutional/base_conv.py:107: UserWarning: Do not pass an `input_shape`/`input_dim` argument to a layer. When using Sequential models, prefer using an `Input(shape)` object as the first layer in the model instead.\n",
            "  super().__init__(activity_regularizer=activity_regularizer, **kwargs)\n"
          ]
        }
      ]
    },
    {
      "cell_type": "markdown",
      "source": [
        "## 5. Ensemble Learning and Visualization\n",
        "A. Ensemble Model\n",
        "The predictions from the LSTM and CNN models are combined using an ensemble method. Both models’ outputs are averaged to create a final prediction for wind speed."
      ],
      "metadata": {
        "id": "yuNlKb2MxISc"
      }
    },
    {
      "cell_type": "code",
      "source": [
        "# Combine LSTM and CNN predictions\n",
        "def ensemble_predictions(lstm_preds, cnn_preds):\n",
        "    return 0.5 * lstm_preds + 0.5 * cnn_preds\n",
        "\n",
        "# Example of combining predictions\n",
        "# lstm_preds = lstm_model.predict(X_test_lstm)\n",
        "# cnn_preds = cnn_model.predict(X_test_cnn)\n",
        "# final_preds = ensemble_predictions(lstm_preds, cnn_preds)\n"
      ],
      "metadata": {
        "id": "j0WIHE5mxJrV"
      },
      "execution_count": 73,
      "outputs": []
    },
    {
      "cell_type": "markdown",
      "source": [
        "## B. Visualization\n",
        "We visualize the predicted wind speed versus actual wind speed to assess the model’s performance."
      ],
      "metadata": {
        "id": "sVtRwtsm47kR"
      }
    },
    {
      "cell_type": "code",
      "source": [
        "import numpy as np\n",
        "import matplotlib.pyplot as plt\n",
        "\n",
        "# Make predictions with the LSTM model\n",
        "predicted_wind_speed = lstm_model.predict(X_test)\n",
        "\n",
        "# Create an array with the same number of columns as the original scaled data\n",
        "predicted_expanded = np.zeros((predicted_wind_speed.shape[0], scaled_data.shape[1]))\n",
        "predicted_expanded[:, 1] = predicted_wind_speed[:, 0]  # Assuming wind speed is the second column (index 1)\n",
        "\n",
        "# Inverse-transform the expanded array\n",
        "predicted_wind_speed_inversed = scaler.inverse_transform(predicted_expanded)\n",
        "\n",
        "# Extract the wind speed column after inverse transformation\n",
        "predicted_wind_speed_final = predicted_wind_speed_inversed[:, 1]\n",
        "\n",
        "# Inverse-transform the actual wind speed (for comparison)\n",
        "y_test_expanded = np.zeros((y_test.shape[0], scaled_data.shape[1]))\n",
        "y_test_expanded[:, 1] = y_test  # Assuming wind speed is the second column\n",
        "y_test_inversed = scaler.inverse_transform(y_test_expanded)\n",
        "y_test_final = y_test_inversed[:, 1]\n",
        "\n",
        "# Plot the results\n",
        "plt.figure(figsize=(10, 6))\n",
        "plt.plot(predicted_wind_speed_final, label='Predicted Wind Speed')\n",
        "plt.plot(y_test_final, label='Actual Wind Speed')\n",
        "plt.title('Predicted vs Actual Wind Speed for Hurricane Helene')\n",
        "plt.legend()\n",
        "plt.show()\n"
      ],
      "metadata": {
        "colab": {
          "base_uri": "https://localhost:8080/",
          "height": 546
        },
        "id": "iZ9-9f8A49O-",
        "outputId": "c576f7e2-25f0-4baf-8777-0af3362c66c9"
      },
      "execution_count": 75,
      "outputs": [
        {
          "output_type": "stream",
          "name": "stdout",
          "text": [
            "\u001b[1m3/3\u001b[0m \u001b[32m━━━━━━━━━━━━━━━━━━━━\u001b[0m\u001b[37m\u001b[0m \u001b[1m0s\u001b[0m 5ms/step \n"
          ]
        },
        {
          "output_type": "display_data",
          "data": {
            "text/plain": [
              "<Figure size 1000x600 with 1 Axes>"
            ],
            "image/png": "[encoded data removed]"
          },
          "metadata": {}
        }
      ]
    }
  ]
}